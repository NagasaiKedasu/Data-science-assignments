{
  "nbformat": 4,
  "nbformat_minor": 0,
  "metadata": {
    "colab": {
      "provenance": []
    },
    "kernelspec": {
      "name": "python3",
      "display_name": "Python 3"
    },
    "language_info": {
      "name": "python"
    }
  },
  "cells": [
    {
      "cell_type": "markdown",
      "source": [
        "# **Support Vector Machine(SVM)**"
      ],
      "metadata": {
        "id": "VawriPOr1czx"
      }
    },
    {
      "cell_type": "markdown",
      "source": [
        "## **Exploratory Data Analysis (EDA):**"
      ],
      "metadata": {
        "id": "A2T-5CUm1Dxt"
      }
    },
    {
      "cell_type": "code",
      "source": [
        "import pandas as pd\n",
        "import numpy as np\n",
        "import matplotlib.pyplot as plt\n",
        "import seaborn as sns\n",
        "import warnings\n",
        "warnings.filterwarnings('ignore')"
      ],
      "metadata": {
        "id": "MYFOIY4Zxi57"
      },
      "execution_count": null,
      "outputs": []
    },
    {
      "cell_type": "code",
      "source": [
        "data = pd.read_csv('mushroom.csv')"
      ],
      "metadata": {
        "id": "N6SNGlQLxmoz"
      },
      "execution_count": null,
      "outputs": []
    },
    {
      "cell_type": "code",
      "source": [
        "data.head()"
      ],
      "metadata": {
        "colab": {
          "base_uri": "https://localhost:8080/",
          "height": 273
        },
        "id": "IdOn-p4Wx0Un",
        "outputId": "928cd4e8-6bf1-47a3-d543-a3ffb5d34aff"
      },
      "execution_count": null,
      "outputs": [
        {
          "output_type": "execute_result",
          "data": {
            "text/plain": [
              "   Unnamed: 0 cap_shape cap_surface cap_color bruises   odor gill_attachment  \\\n",
              "0        1167    sunken       scaly     white      no  anise      descending   \n",
              "1        1037    sunken     fibrous       red      no  anise         notched   \n",
              "2         309      flat     grooves    purple     yes   foul      descending   \n",
              "3         282      bell       scaly      pink     yes  fishy         notched   \n",
              "4         820      flat      smooth    yellow     yes  musty            free   \n",
              "\n",
              "  gill_spacing gill_size gill_color  ...  veil_type veil_color ring_number  \\\n",
              "0      distant     broad       pink  ...    partial      brown         two   \n",
              "1      crowded    narrow  chocolate  ...  universal      brown         two   \n",
              "2      crowded     broad     purple  ...  universal     yellow         two   \n",
              "3        close     broad     orange  ...    partial     yellow         two   \n",
              "4      crowded    narrow     orange  ...  universal      white        none   \n",
              "\n",
              "   ring_type spore_print_color population  habitat      class stalk_height  \\\n",
              "0  sheathing         chocolate  clustered    waste  poisonous    14.276173   \n",
              "1  sheathing             brown   numerous    waste     edible     3.952715   \n",
              "2  sheathing            purple   abundant    waste  poisonous     9.054265   \n",
              "3   cobwebby             green  clustered  grasses  poisonous     5.226499   \n",
              "4       none            yellow  clustered    urban  poisonous    14.037532   \n",
              "\n",
              "  cap_diameter  \n",
              "0     5.054983  \n",
              "1    19.068319  \n",
              "2     7.205884  \n",
              "3    20.932692  \n",
              "4    12.545245  \n",
              "\n",
              "[5 rows x 26 columns]"
            ],
            "text/html": [
              "\n",
              "  <div id=\"df-739a9fa2-9424-4efa-9e43-f7d406e916aa\" class=\"colab-df-container\">\n",
              "    <div>\n",
              "<style scoped>\n",
              "    .dataframe tbody tr th:only-of-type {\n",
              "        vertical-align: middle;\n",
              "    }\n",
              "\n",
              "    .dataframe tbody tr th {\n",
              "        vertical-align: top;\n",
              "    }\n",
              "\n",
              "    .dataframe thead th {\n",
              "        text-align: right;\n",
              "    }\n",
              "</style>\n",
              "<table border=\"1\" class=\"dataframe\">\n",
              "  <thead>\n",
              "    <tr style=\"text-align: right;\">\n",
              "      <th></th>\n",
              "      <th>Unnamed: 0</th>\n",
              "      <th>cap_shape</th>\n",
              "      <th>cap_surface</th>\n",
              "      <th>cap_color</th>\n",
              "      <th>bruises</th>\n",
              "      <th>odor</th>\n",
              "      <th>gill_attachment</th>\n",
              "      <th>gill_spacing</th>\n",
              "      <th>gill_size</th>\n",
              "      <th>gill_color</th>\n",
              "      <th>...</th>\n",
              "      <th>veil_type</th>\n",
              "      <th>veil_color</th>\n",
              "      <th>ring_number</th>\n",
              "      <th>ring_type</th>\n",
              "      <th>spore_print_color</th>\n",
              "      <th>population</th>\n",
              "      <th>habitat</th>\n",
              "      <th>class</th>\n",
              "      <th>stalk_height</th>\n",
              "      <th>cap_diameter</th>\n",
              "    </tr>\n",
              "  </thead>\n",
              "  <tbody>\n",
              "    <tr>\n",
              "      <th>0</th>\n",
              "      <td>1167</td>\n",
              "      <td>sunken</td>\n",
              "      <td>scaly</td>\n",
              "      <td>white</td>\n",
              "      <td>no</td>\n",
              "      <td>anise</td>\n",
              "      <td>descending</td>\n",
              "      <td>distant</td>\n",
              "      <td>broad</td>\n",
              "      <td>pink</td>\n",
              "      <td>...</td>\n",
              "      <td>partial</td>\n",
              "      <td>brown</td>\n",
              "      <td>two</td>\n",
              "      <td>sheathing</td>\n",
              "      <td>chocolate</td>\n",
              "      <td>clustered</td>\n",
              "      <td>waste</td>\n",
              "      <td>poisonous</td>\n",
              "      <td>14.276173</td>\n",
              "      <td>5.054983</td>\n",
              "    </tr>\n",
              "    <tr>\n",
              "      <th>1</th>\n",
              "      <td>1037</td>\n",
              "      <td>sunken</td>\n",
              "      <td>fibrous</td>\n",
              "      <td>red</td>\n",
              "      <td>no</td>\n",
              "      <td>anise</td>\n",
              "      <td>notched</td>\n",
              "      <td>crowded</td>\n",
              "      <td>narrow</td>\n",
              "      <td>chocolate</td>\n",
              "      <td>...</td>\n",
              "      <td>universal</td>\n",
              "      <td>brown</td>\n",
              "      <td>two</td>\n",
              "      <td>sheathing</td>\n",
              "      <td>brown</td>\n",
              "      <td>numerous</td>\n",
              "      <td>waste</td>\n",
              "      <td>edible</td>\n",
              "      <td>3.952715</td>\n",
              "      <td>19.068319</td>\n",
              "    </tr>\n",
              "    <tr>\n",
              "      <th>2</th>\n",
              "      <td>309</td>\n",
              "      <td>flat</td>\n",
              "      <td>grooves</td>\n",
              "      <td>purple</td>\n",
              "      <td>yes</td>\n",
              "      <td>foul</td>\n",
              "      <td>descending</td>\n",
              "      <td>crowded</td>\n",
              "      <td>broad</td>\n",
              "      <td>purple</td>\n",
              "      <td>...</td>\n",
              "      <td>universal</td>\n",
              "      <td>yellow</td>\n",
              "      <td>two</td>\n",
              "      <td>sheathing</td>\n",
              "      <td>purple</td>\n",
              "      <td>abundant</td>\n",
              "      <td>waste</td>\n",
              "      <td>poisonous</td>\n",
              "      <td>9.054265</td>\n",
              "      <td>7.205884</td>\n",
              "    </tr>\n",
              "    <tr>\n",
              "      <th>3</th>\n",
              "      <td>282</td>\n",
              "      <td>bell</td>\n",
              "      <td>scaly</td>\n",
              "      <td>pink</td>\n",
              "      <td>yes</td>\n",
              "      <td>fishy</td>\n",
              "      <td>notched</td>\n",
              "      <td>close</td>\n",
              "      <td>broad</td>\n",
              "      <td>orange</td>\n",
              "      <td>...</td>\n",
              "      <td>partial</td>\n",
              "      <td>yellow</td>\n",
              "      <td>two</td>\n",
              "      <td>cobwebby</td>\n",
              "      <td>green</td>\n",
              "      <td>clustered</td>\n",
              "      <td>grasses</td>\n",
              "      <td>poisonous</td>\n",
              "      <td>5.226499</td>\n",
              "      <td>20.932692</td>\n",
              "    </tr>\n",
              "    <tr>\n",
              "      <th>4</th>\n",
              "      <td>820</td>\n",
              "      <td>flat</td>\n",
              "      <td>smooth</td>\n",
              "      <td>yellow</td>\n",
              "      <td>yes</td>\n",
              "      <td>musty</td>\n",
              "      <td>free</td>\n",
              "      <td>crowded</td>\n",
              "      <td>narrow</td>\n",
              "      <td>orange</td>\n",
              "      <td>...</td>\n",
              "      <td>universal</td>\n",
              "      <td>white</td>\n",
              "      <td>none</td>\n",
              "      <td>none</td>\n",
              "      <td>yellow</td>\n",
              "      <td>clustered</td>\n",
              "      <td>urban</td>\n",
              "      <td>poisonous</td>\n",
              "      <td>14.037532</td>\n",
              "      <td>12.545245</td>\n",
              "    </tr>\n",
              "  </tbody>\n",
              "</table>\n",
              "<p>5 rows × 26 columns</p>\n",
              "</div>\n",
              "    <div class=\"colab-df-buttons\">\n",
              "\n",
              "  <div class=\"colab-df-container\">\n",
              "    <button class=\"colab-df-convert\" onclick=\"convertToInteractive('df-739a9fa2-9424-4efa-9e43-f7d406e916aa')\"\n",
              "            title=\"Convert this dataframe to an interactive table.\"\n",
              "            style=\"display:none;\">\n",
              "\n",
              "  <svg xmlns=\"http://www.w3.org/2000/svg\" height=\"24px\" viewBox=\"0 -960 960 960\">\n",
              "    <path d=\"M120-120v-720h720v720H120Zm60-500h600v-160H180v160Zm220 220h160v-160H400v160Zm0 220h160v-160H400v160ZM180-400h160v-160H180v160Zm440 0h160v-160H620v160ZM180-180h160v-160H180v160Zm440 0h160v-160H620v160Z\"/>\n",
              "  </svg>\n",
              "    </button>\n",
              "\n",
              "  <style>\n",
              "    .colab-df-container {\n",
              "      display:flex;\n",
              "      gap: 12px;\n",
              "    }\n",
              "\n",
              "    .colab-df-convert {\n",
              "      background-color: #E8F0FE;\n",
              "      border: none;\n",
              "      border-radius: 50%;\n",
              "      cursor: pointer;\n",
              "      display: none;\n",
              "      fill: #1967D2;\n",
              "      height: 32px;\n",
              "      padding: 0 0 0 0;\n",
              "      width: 32px;\n",
              "    }\n",
              "\n",
              "    .colab-df-convert:hover {\n",
              "      background-color: #E2EBFA;\n",
              "      box-shadow: 0px 1px 2px rgba(60, 64, 67, 0.3), 0px 1px 3px 1px rgba(60, 64, 67, 0.15);\n",
              "      fill: #174EA6;\n",
              "    }\n",
              "\n",
              "    .colab-df-buttons div {\n",
              "      margin-bottom: 4px;\n",
              "    }\n",
              "\n",
              "    [theme=dark] .colab-df-convert {\n",
              "      background-color: #3B4455;\n",
              "      fill: #D2E3FC;\n",
              "    }\n",
              "\n",
              "    [theme=dark] .colab-df-convert:hover {\n",
              "      background-color: #434B5C;\n",
              "      box-shadow: 0px 1px 3px 1px rgba(0, 0, 0, 0.15);\n",
              "      filter: drop-shadow(0px 1px 2px rgba(0, 0, 0, 0.3));\n",
              "      fill: #FFFFFF;\n",
              "    }\n",
              "  </style>\n",
              "\n",
              "    <script>\n",
              "      const buttonEl =\n",
              "        document.querySelector('#df-739a9fa2-9424-4efa-9e43-f7d406e916aa button.colab-df-convert');\n",
              "      buttonEl.style.display =\n",
              "        google.colab.kernel.accessAllowed ? 'block' : 'none';\n",
              "\n",
              "      async function convertToInteractive(key) {\n",
              "        const element = document.querySelector('#df-739a9fa2-9424-4efa-9e43-f7d406e916aa');\n",
              "        const dataTable =\n",
              "          await google.colab.kernel.invokeFunction('convertToInteractive',\n",
              "                                                    [key], {});\n",
              "        if (!dataTable) return;\n",
              "\n",
              "        const docLinkHtml = 'Like what you see? Visit the ' +\n",
              "          '<a target=\"_blank\" href=https://colab.research.google.com/notebooks/data_table.ipynb>data table notebook</a>'\n",
              "          + ' to learn more about interactive tables.';\n",
              "        element.innerHTML = '';\n",
              "        dataTable['output_type'] = 'display_data';\n",
              "        await google.colab.output.renderOutput(dataTable, element);\n",
              "        const docLink = document.createElement('div');\n",
              "        docLink.innerHTML = docLinkHtml;\n",
              "        element.appendChild(docLink);\n",
              "      }\n",
              "    </script>\n",
              "  </div>\n",
              "\n",
              "\n",
              "<div id=\"df-a3b4030f-4858-4297-be45-0ee3e9cadfb9\">\n",
              "  <button class=\"colab-df-quickchart\" onclick=\"quickchart('df-a3b4030f-4858-4297-be45-0ee3e9cadfb9')\"\n",
              "            title=\"Suggest charts\"\n",
              "            style=\"display:none;\">\n",
              "\n",
              "<svg xmlns=\"http://www.w3.org/2000/svg\" height=\"24px\"viewBox=\"0 0 24 24\"\n",
              "     width=\"24px\">\n",
              "    <g>\n",
              "        <path d=\"M19 3H5c-1.1 0-2 .9-2 2v14c0 1.1.9 2 2 2h14c1.1 0 2-.9 2-2V5c0-1.1-.9-2-2-2zM9 17H7v-7h2v7zm4 0h-2V7h2v10zm4 0h-2v-4h2v4z\"/>\n",
              "    </g>\n",
              "</svg>\n",
              "  </button>\n",
              "\n",
              "<style>\n",
              "  .colab-df-quickchart {\n",
              "      --bg-color: #E8F0FE;\n",
              "      --fill-color: #1967D2;\n",
              "      --hover-bg-color: #E2EBFA;\n",
              "      --hover-fill-color: #174EA6;\n",
              "      --disabled-fill-color: #AAA;\n",
              "      --disabled-bg-color: #DDD;\n",
              "  }\n",
              "\n",
              "  [theme=dark] .colab-df-quickchart {\n",
              "      --bg-color: #3B4455;\n",
              "      --fill-color: #D2E3FC;\n",
              "      --hover-bg-color: #434B5C;\n",
              "      --hover-fill-color: #FFFFFF;\n",
              "      --disabled-bg-color: #3B4455;\n",
              "      --disabled-fill-color: #666;\n",
              "  }\n",
              "\n",
              "  .colab-df-quickchart {\n",
              "    background-color: var(--bg-color);\n",
              "    border: none;\n",
              "    border-radius: 50%;\n",
              "    cursor: pointer;\n",
              "    display: none;\n",
              "    fill: var(--fill-color);\n",
              "    height: 32px;\n",
              "    padding: 0;\n",
              "    width: 32px;\n",
              "  }\n",
              "\n",
              "  .colab-df-quickchart:hover {\n",
              "    background-color: var(--hover-bg-color);\n",
              "    box-shadow: 0 1px 2px rgba(60, 64, 67, 0.3), 0 1px 3px 1px rgba(60, 64, 67, 0.15);\n",
              "    fill: var(--button-hover-fill-color);\n",
              "  }\n",
              "\n",
              "  .colab-df-quickchart-complete:disabled,\n",
              "  .colab-df-quickchart-complete:disabled:hover {\n",
              "    background-color: var(--disabled-bg-color);\n",
              "    fill: var(--disabled-fill-color);\n",
              "    box-shadow: none;\n",
              "  }\n",
              "\n",
              "  .colab-df-spinner {\n",
              "    border: 2px solid var(--fill-color);\n",
              "    border-color: transparent;\n",
              "    border-bottom-color: var(--fill-color);\n",
              "    animation:\n",
              "      spin 1s steps(1) infinite;\n",
              "  }\n",
              "\n",
              "  @keyframes spin {\n",
              "    0% {\n",
              "      border-color: transparent;\n",
              "      border-bottom-color: var(--fill-color);\n",
              "      border-left-color: var(--fill-color);\n",
              "    }\n",
              "    20% {\n",
              "      border-color: transparent;\n",
              "      border-left-color: var(--fill-color);\n",
              "      border-top-color: var(--fill-color);\n",
              "    }\n",
              "    30% {\n",
              "      border-color: transparent;\n",
              "      border-left-color: var(--fill-color);\n",
              "      border-top-color: var(--fill-color);\n",
              "      border-right-color: var(--fill-color);\n",
              "    }\n",
              "    40% {\n",
              "      border-color: transparent;\n",
              "      border-right-color: var(--fill-color);\n",
              "      border-top-color: var(--fill-color);\n",
              "    }\n",
              "    60% {\n",
              "      border-color: transparent;\n",
              "      border-right-color: var(--fill-color);\n",
              "    }\n",
              "    80% {\n",
              "      border-color: transparent;\n",
              "      border-right-color: var(--fill-color);\n",
              "      border-bottom-color: var(--fill-color);\n",
              "    }\n",
              "    90% {\n",
              "      border-color: transparent;\n",
              "      border-bottom-color: var(--fill-color);\n",
              "    }\n",
              "  }\n",
              "</style>\n",
              "\n",
              "  <script>\n",
              "    async function quickchart(key) {\n",
              "      const quickchartButtonEl =\n",
              "        document.querySelector('#' + key + ' button');\n",
              "      quickchartButtonEl.disabled = true;  // To prevent multiple clicks.\n",
              "      quickchartButtonEl.classList.add('colab-df-spinner');\n",
              "      try {\n",
              "        const charts = await google.colab.kernel.invokeFunction(\n",
              "            'suggestCharts', [key], {});\n",
              "      } catch (error) {\n",
              "        console.error('Error during call to suggestCharts:', error);\n",
              "      }\n",
              "      quickchartButtonEl.classList.remove('colab-df-spinner');\n",
              "      quickchartButtonEl.classList.add('colab-df-quickchart-complete');\n",
              "    }\n",
              "    (() => {\n",
              "      let quickchartButtonEl =\n",
              "        document.querySelector('#df-a3b4030f-4858-4297-be45-0ee3e9cadfb9 button');\n",
              "      quickchartButtonEl.style.display =\n",
              "        google.colab.kernel.accessAllowed ? 'block' : 'none';\n",
              "    })();\n",
              "  </script>\n",
              "</div>\n",
              "\n",
              "    </div>\n",
              "  </div>\n"
            ],
            "application/vnd.google.colaboratory.intrinsic+json": {
              "type": "dataframe",
              "variable_name": "data"
            }
          },
          "metadata": {},
          "execution_count": 4
        }
      ]
    },
    {
      "cell_type": "code",
      "source": [
        "data.tail()"
      ],
      "metadata": {
        "colab": {
          "base_uri": "https://localhost:8080/",
          "height": 273
        },
        "id": "WDt1RTgJx7ea",
        "outputId": "fc8895c3-9fba-42ed-fc60-17b264e8d761"
      },
      "execution_count": null,
      "outputs": [
        {
          "output_type": "execute_result",
          "data": {
            "text/plain": [
              "      Unnamed: 0 cap_shape cap_surface cap_color bruises     odor  \\\n",
              "1995         863    sunken       scaly     brown     yes     foul   \n",
              "1996        1160    sunken       scaly    purple     yes    musty   \n",
              "1997         265    convex     grooves     green     yes    fishy   \n",
              "1998         411      bell      smooth     white      no  pungent   \n",
              "1999        1073    convex       scaly    yellow     yes  pungent   \n",
              "\n",
              "     gill_attachment gill_spacing gill_size gill_color  ...  veil_type  \\\n",
              "1995        attached      crowded    narrow  chocolate  ...    partial   \n",
              "1996        attached      distant    narrow        red  ...    partial   \n",
              "1997         notched        close    narrow       pink  ...    partial   \n",
              "1998            free        close    narrow     orange  ...  universal   \n",
              "1999      descending        close    narrow     purple  ...    partial   \n",
              "\n",
              "     veil_color ring_number   ring_type spore_print_color population habitat  \\\n",
              "1995     orange         one     flaring            purple   abundant  leaves   \n",
              "1996      white         one        zone            yellow   numerous   waste   \n",
              "1997      brown         two  evanescent            yellow   abundant   woods   \n",
              "1998     yellow         one    cobwebby             brown   solitary   woods   \n",
              "1999      white         two       large             white   numerous   urban   \n",
              "\n",
              "          class stalk_height cap_diameter  \n",
              "1995  poisonous     5.877891    17.464145  \n",
              "1996  poisonous     6.500840    13.501957  \n",
              "1997  poisonous    13.558064    11.270020  \n",
              "1998  poisonous    11.092703     8.423199  \n",
              "1999  poisonous    13.066414    21.056642  \n",
              "\n",
              "[5 rows x 26 columns]"
            ],
            "text/html": [
              "\n",
              "  <div id=\"df-adad0ffa-37cc-4bb5-bc6f-afedbd5ec789\" class=\"colab-df-container\">\n",
              "    <div>\n",
              "<style scoped>\n",
              "    .dataframe tbody tr th:only-of-type {\n",
              "        vertical-align: middle;\n",
              "    }\n",
              "\n",
              "    .dataframe tbody tr th {\n",
              "        vertical-align: top;\n",
              "    }\n",
              "\n",
              "    .dataframe thead th {\n",
              "        text-align: right;\n",
              "    }\n",
              "</style>\n",
              "<table border=\"1\" class=\"dataframe\">\n",
              "  <thead>\n",
              "    <tr style=\"text-align: right;\">\n",
              "      <th></th>\n",
              "      <th>Unnamed: 0</th>\n",
              "      <th>cap_shape</th>\n",
              "      <th>cap_surface</th>\n",
              "      <th>cap_color</th>\n",
              "      <th>bruises</th>\n",
              "      <th>odor</th>\n",
              "      <th>gill_attachment</th>\n",
              "      <th>gill_spacing</th>\n",
              "      <th>gill_size</th>\n",
              "      <th>gill_color</th>\n",
              "      <th>...</th>\n",
              "      <th>veil_type</th>\n",
              "      <th>veil_color</th>\n",
              "      <th>ring_number</th>\n",
              "      <th>ring_type</th>\n",
              "      <th>spore_print_color</th>\n",
              "      <th>population</th>\n",
              "      <th>habitat</th>\n",
              "      <th>class</th>\n",
              "      <th>stalk_height</th>\n",
              "      <th>cap_diameter</th>\n",
              "    </tr>\n",
              "  </thead>\n",
              "  <tbody>\n",
              "    <tr>\n",
              "      <th>1995</th>\n",
              "      <td>863</td>\n",
              "      <td>sunken</td>\n",
              "      <td>scaly</td>\n",
              "      <td>brown</td>\n",
              "      <td>yes</td>\n",
              "      <td>foul</td>\n",
              "      <td>attached</td>\n",
              "      <td>crowded</td>\n",
              "      <td>narrow</td>\n",
              "      <td>chocolate</td>\n",
              "      <td>...</td>\n",
              "      <td>partial</td>\n",
              "      <td>orange</td>\n",
              "      <td>one</td>\n",
              "      <td>flaring</td>\n",
              "      <td>purple</td>\n",
              "      <td>abundant</td>\n",
              "      <td>leaves</td>\n",
              "      <td>poisonous</td>\n",
              "      <td>5.877891</td>\n",
              "      <td>17.464145</td>\n",
              "    </tr>\n",
              "    <tr>\n",
              "      <th>1996</th>\n",
              "      <td>1160</td>\n",
              "      <td>sunken</td>\n",
              "      <td>scaly</td>\n",
              "      <td>purple</td>\n",
              "      <td>yes</td>\n",
              "      <td>musty</td>\n",
              "      <td>attached</td>\n",
              "      <td>distant</td>\n",
              "      <td>narrow</td>\n",
              "      <td>red</td>\n",
              "      <td>...</td>\n",
              "      <td>partial</td>\n",
              "      <td>white</td>\n",
              "      <td>one</td>\n",
              "      <td>zone</td>\n",
              "      <td>yellow</td>\n",
              "      <td>numerous</td>\n",
              "      <td>waste</td>\n",
              "      <td>poisonous</td>\n",
              "      <td>6.500840</td>\n",
              "      <td>13.501957</td>\n",
              "    </tr>\n",
              "    <tr>\n",
              "      <th>1997</th>\n",
              "      <td>265</td>\n",
              "      <td>convex</td>\n",
              "      <td>grooves</td>\n",
              "      <td>green</td>\n",
              "      <td>yes</td>\n",
              "      <td>fishy</td>\n",
              "      <td>notched</td>\n",
              "      <td>close</td>\n",
              "      <td>narrow</td>\n",
              "      <td>pink</td>\n",
              "      <td>...</td>\n",
              "      <td>partial</td>\n",
              "      <td>brown</td>\n",
              "      <td>two</td>\n",
              "      <td>evanescent</td>\n",
              "      <td>yellow</td>\n",
              "      <td>abundant</td>\n",
              "      <td>woods</td>\n",
              "      <td>poisonous</td>\n",
              "      <td>13.558064</td>\n",
              "      <td>11.270020</td>\n",
              "    </tr>\n",
              "    <tr>\n",
              "      <th>1998</th>\n",
              "      <td>411</td>\n",
              "      <td>bell</td>\n",
              "      <td>smooth</td>\n",
              "      <td>white</td>\n",
              "      <td>no</td>\n",
              "      <td>pungent</td>\n",
              "      <td>free</td>\n",
              "      <td>close</td>\n",
              "      <td>narrow</td>\n",
              "      <td>orange</td>\n",
              "      <td>...</td>\n",
              "      <td>universal</td>\n",
              "      <td>yellow</td>\n",
              "      <td>one</td>\n",
              "      <td>cobwebby</td>\n",
              "      <td>brown</td>\n",
              "      <td>solitary</td>\n",
              "      <td>woods</td>\n",
              "      <td>poisonous</td>\n",
              "      <td>11.092703</td>\n",
              "      <td>8.423199</td>\n",
              "    </tr>\n",
              "    <tr>\n",
              "      <th>1999</th>\n",
              "      <td>1073</td>\n",
              "      <td>convex</td>\n",
              "      <td>scaly</td>\n",
              "      <td>yellow</td>\n",
              "      <td>yes</td>\n",
              "      <td>pungent</td>\n",
              "      <td>descending</td>\n",
              "      <td>close</td>\n",
              "      <td>narrow</td>\n",
              "      <td>purple</td>\n",
              "      <td>...</td>\n",
              "      <td>partial</td>\n",
              "      <td>white</td>\n",
              "      <td>two</td>\n",
              "      <td>large</td>\n",
              "      <td>white</td>\n",
              "      <td>numerous</td>\n",
              "      <td>urban</td>\n",
              "      <td>poisonous</td>\n",
              "      <td>13.066414</td>\n",
              "      <td>21.056642</td>\n",
              "    </tr>\n",
              "  </tbody>\n",
              "</table>\n",
              "<p>5 rows × 26 columns</p>\n",
              "</div>\n",
              "    <div class=\"colab-df-buttons\">\n",
              "\n",
              "  <div class=\"colab-df-container\">\n",
              "    <button class=\"colab-df-convert\" onclick=\"convertToInteractive('df-adad0ffa-37cc-4bb5-bc6f-afedbd5ec789')\"\n",
              "            title=\"Convert this dataframe to an interactive table.\"\n",
              "            style=\"display:none;\">\n",
              "\n",
              "  <svg xmlns=\"http://www.w3.org/2000/svg\" height=\"24px\" viewBox=\"0 -960 960 960\">\n",
              "    <path d=\"M120-120v-720h720v720H120Zm60-500h600v-160H180v160Zm220 220h160v-160H400v160Zm0 220h160v-160H400v160ZM180-400h160v-160H180v160Zm440 0h160v-160H620v160ZM180-180h160v-160H180v160Zm440 0h160v-160H620v160Z\"/>\n",
              "  </svg>\n",
              "    </button>\n",
              "\n",
              "  <style>\n",
              "    .colab-df-container {\n",
              "      display:flex;\n",
              "      gap: 12px;\n",
              "    }\n",
              "\n",
              "    .colab-df-convert {\n",
              "      background-color: #E8F0FE;\n",
              "      border: none;\n",
              "      border-radius: 50%;\n",
              "      cursor: pointer;\n",
              "      display: none;\n",
              "      fill: #1967D2;\n",
              "      height: 32px;\n",
              "      padding: 0 0 0 0;\n",
              "      width: 32px;\n",
              "    }\n",
              "\n",
              "    .colab-df-convert:hover {\n",
              "      background-color: #E2EBFA;\n",
              "      box-shadow: 0px 1px 2px rgba(60, 64, 67, 0.3), 0px 1px 3px 1px rgba(60, 64, 67, 0.15);\n",
              "      fill: #174EA6;\n",
              "    }\n",
              "\n",
              "    .colab-df-buttons div {\n",
              "      margin-bottom: 4px;\n",
              "    }\n",
              "\n",
              "    [theme=dark] .colab-df-convert {\n",
              "      background-color: #3B4455;\n",
              "      fill: #D2E3FC;\n",
              "    }\n",
              "\n",
              "    [theme=dark] .colab-df-convert:hover {\n",
              "      background-color: #434B5C;\n",
              "      box-shadow: 0px 1px 3px 1px rgba(0, 0, 0, 0.15);\n",
              "      filter: drop-shadow(0px 1px 2px rgba(0, 0, 0, 0.3));\n",
              "      fill: #FFFFFF;\n",
              "    }\n",
              "  </style>\n",
              "\n",
              "    <script>\n",
              "      const buttonEl =\n",
              "        document.querySelector('#df-adad0ffa-37cc-4bb5-bc6f-afedbd5ec789 button.colab-df-convert');\n",
              "      buttonEl.style.display =\n",
              "        google.colab.kernel.accessAllowed ? 'block' : 'none';\n",
              "\n",
              "      async function convertToInteractive(key) {\n",
              "        const element = document.querySelector('#df-adad0ffa-37cc-4bb5-bc6f-afedbd5ec789');\n",
              "        const dataTable =\n",
              "          await google.colab.kernel.invokeFunction('convertToInteractive',\n",
              "                                                    [key], {});\n",
              "        if (!dataTable) return;\n",
              "\n",
              "        const docLinkHtml = 'Like what you see? Visit the ' +\n",
              "          '<a target=\"_blank\" href=https://colab.research.google.com/notebooks/data_table.ipynb>data table notebook</a>'\n",
              "          + ' to learn more about interactive tables.';\n",
              "        element.innerHTML = '';\n",
              "        dataTable['output_type'] = 'display_data';\n",
              "        await google.colab.output.renderOutput(dataTable, element);\n",
              "        const docLink = document.createElement('div');\n",
              "        docLink.innerHTML = docLinkHtml;\n",
              "        element.appendChild(docLink);\n",
              "      }\n",
              "    </script>\n",
              "  </div>\n",
              "\n",
              "\n",
              "<div id=\"df-6550a484-e6e5-4f47-964d-bc1db5df98c7\">\n",
              "  <button class=\"colab-df-quickchart\" onclick=\"quickchart('df-6550a484-e6e5-4f47-964d-bc1db5df98c7')\"\n",
              "            title=\"Suggest charts\"\n",
              "            style=\"display:none;\">\n",
              "\n",
              "<svg xmlns=\"http://www.w3.org/2000/svg\" height=\"24px\"viewBox=\"0 0 24 24\"\n",
              "     width=\"24px\">\n",
              "    <g>\n",
              "        <path d=\"M19 3H5c-1.1 0-2 .9-2 2v14c0 1.1.9 2 2 2h14c1.1 0 2-.9 2-2V5c0-1.1-.9-2-2-2zM9 17H7v-7h2v7zm4 0h-2V7h2v10zm4 0h-2v-4h2v4z\"/>\n",
              "    </g>\n",
              "</svg>\n",
              "  </button>\n",
              "\n",
              "<style>\n",
              "  .colab-df-quickchart {\n",
              "      --bg-color: #E8F0FE;\n",
              "      --fill-color: #1967D2;\n",
              "      --hover-bg-color: #E2EBFA;\n",
              "      --hover-fill-color: #174EA6;\n",
              "      --disabled-fill-color: #AAA;\n",
              "      --disabled-bg-color: #DDD;\n",
              "  }\n",
              "\n",
              "  [theme=dark] .colab-df-quickchart {\n",
              "      --bg-color: #3B4455;\n",
              "      --fill-color: #D2E3FC;\n",
              "      --hover-bg-color: #434B5C;\n",
              "      --hover-fill-color: #FFFFFF;\n",
              "      --disabled-bg-color: #3B4455;\n",
              "      --disabled-fill-color: #666;\n",
              "  }\n",
              "\n",
              "  .colab-df-quickchart {\n",
              "    background-color: var(--bg-color);\n",
              "    border: none;\n",
              "    border-radius: 50%;\n",
              "    cursor: pointer;\n",
              "    display: none;\n",
              "    fill: var(--fill-color);\n",
              "    height: 32px;\n",
              "    padding: 0;\n",
              "    width: 32px;\n",
              "  }\n",
              "\n",
              "  .colab-df-quickchart:hover {\n",
              "    background-color: var(--hover-bg-color);\n",
              "    box-shadow: 0 1px 2px rgba(60, 64, 67, 0.3), 0 1px 3px 1px rgba(60, 64, 67, 0.15);\n",
              "    fill: var(--button-hover-fill-color);\n",
              "  }\n",
              "\n",
              "  .colab-df-quickchart-complete:disabled,\n",
              "  .colab-df-quickchart-complete:disabled:hover {\n",
              "    background-color: var(--disabled-bg-color);\n",
              "    fill: var(--disabled-fill-color);\n",
              "    box-shadow: none;\n",
              "  }\n",
              "\n",
              "  .colab-df-spinner {\n",
              "    border: 2px solid var(--fill-color);\n",
              "    border-color: transparent;\n",
              "    border-bottom-color: var(--fill-color);\n",
              "    animation:\n",
              "      spin 1s steps(1) infinite;\n",
              "  }\n",
              "\n",
              "  @keyframes spin {\n",
              "    0% {\n",
              "      border-color: transparent;\n",
              "      border-bottom-color: var(--fill-color);\n",
              "      border-left-color: var(--fill-color);\n",
              "    }\n",
              "    20% {\n",
              "      border-color: transparent;\n",
              "      border-left-color: var(--fill-color);\n",
              "      border-top-color: var(--fill-color);\n",
              "    }\n",
              "    30% {\n",
              "      border-color: transparent;\n",
              "      border-left-color: var(--fill-color);\n",
              "      border-top-color: var(--fill-color);\n",
              "      border-right-color: var(--fill-color);\n",
              "    }\n",
              "    40% {\n",
              "      border-color: transparent;\n",
              "      border-right-color: var(--fill-color);\n",
              "      border-top-color: var(--fill-color);\n",
              "    }\n",
              "    60% {\n",
              "      border-color: transparent;\n",
              "      border-right-color: var(--fill-color);\n",
              "    }\n",
              "    80% {\n",
              "      border-color: transparent;\n",
              "      border-right-color: var(--fill-color);\n",
              "      border-bottom-color: var(--fill-color);\n",
              "    }\n",
              "    90% {\n",
              "      border-color: transparent;\n",
              "      border-bottom-color: var(--fill-color);\n",
              "    }\n",
              "  }\n",
              "</style>\n",
              "\n",
              "  <script>\n",
              "    async function quickchart(key) {\n",
              "      const quickchartButtonEl =\n",
              "        document.querySelector('#' + key + ' button');\n",
              "      quickchartButtonEl.disabled = true;  // To prevent multiple clicks.\n",
              "      quickchartButtonEl.classList.add('colab-df-spinner');\n",
              "      try {\n",
              "        const charts = await google.colab.kernel.invokeFunction(\n",
              "            'suggestCharts', [key], {});\n",
              "      } catch (error) {\n",
              "        console.error('Error during call to suggestCharts:', error);\n",
              "      }\n",
              "      quickchartButtonEl.classList.remove('colab-df-spinner');\n",
              "      quickchartButtonEl.classList.add('colab-df-quickchart-complete');\n",
              "    }\n",
              "    (() => {\n",
              "      let quickchartButtonEl =\n",
              "        document.querySelector('#df-6550a484-e6e5-4f47-964d-bc1db5df98c7 button');\n",
              "      quickchartButtonEl.style.display =\n",
              "        google.colab.kernel.accessAllowed ? 'block' : 'none';\n",
              "    })();\n",
              "  </script>\n",
              "</div>\n",
              "\n",
              "    </div>\n",
              "  </div>\n"
            ],
            "application/vnd.google.colaboratory.intrinsic+json": {
              "type": "dataframe"
            }
          },
          "metadata": {},
          "execution_count": 5
        }
      ]
    },
    {
      "cell_type": "code",
      "source": [
        "data.columns"
      ],
      "metadata": {
        "colab": {
          "base_uri": "https://localhost:8080/"
        },
        "id": "lts9ltRkyDFl",
        "outputId": "3be76ad7-1a4a-4093-fba0-b3a05568563c"
      },
      "execution_count": null,
      "outputs": [
        {
          "output_type": "execute_result",
          "data": {
            "text/plain": [
              "Index(['Unnamed: 0', 'cap_shape', 'cap_surface', 'cap_color', 'bruises',\n",
              "       'odor', 'gill_attachment', 'gill_spacing', 'gill_size', 'gill_color',\n",
              "       'stalk_shape', 'stalk_root', 'stalk_surface_above_ring',\n",
              "       'stalk_surface_below_ring', 'stalk_color_above_ring',\n",
              "       'stalk_color_below_ring', 'veil_type', 'veil_color', 'ring_number',\n",
              "       'ring_type', 'spore_print_color', 'population', 'habitat', 'class',\n",
              "       'stalk_height', 'cap_diameter'],\n",
              "      dtype='object')"
            ]
          },
          "metadata": {},
          "execution_count": 6
        }
      ]
    },
    {
      "cell_type": "code",
      "source": [
        "data.info()"
      ],
      "metadata": {
        "colab": {
          "base_uri": "https://localhost:8080/"
        },
        "id": "NKi896I3yiHB",
        "outputId": "0f37f22f-7594-4167-84e1-1d96cddd0816"
      },
      "execution_count": null,
      "outputs": [
        {
          "output_type": "stream",
          "name": "stdout",
          "text": [
            "<class 'pandas.core.frame.DataFrame'>\n",
            "RangeIndex: 2000 entries, 0 to 1999\n",
            "Data columns (total 26 columns):\n",
            " #   Column                    Non-Null Count  Dtype  \n",
            "---  ------                    --------------  -----  \n",
            " 0   Unnamed: 0                2000 non-null   int64  \n",
            " 1   cap_shape                 2000 non-null   object \n",
            " 2   cap_surface               2000 non-null   object \n",
            " 3   cap_color                 2000 non-null   object \n",
            " 4   bruises                   2000 non-null   object \n",
            " 5   odor                      2000 non-null   object \n",
            " 6   gill_attachment           2000 non-null   object \n",
            " 7   gill_spacing              2000 non-null   object \n",
            " 8   gill_size                 2000 non-null   object \n",
            " 9   gill_color                2000 non-null   object \n",
            " 10  stalk_shape               2000 non-null   object \n",
            " 11  stalk_root                2000 non-null   object \n",
            " 12  stalk_surface_above_ring  2000 non-null   object \n",
            " 13  stalk_surface_below_ring  2000 non-null   object \n",
            " 14  stalk_color_above_ring    2000 non-null   object \n",
            " 15  stalk_color_below_ring    2000 non-null   object \n",
            " 16  veil_type                 2000 non-null   object \n",
            " 17  veil_color                2000 non-null   object \n",
            " 18  ring_number               2000 non-null   object \n",
            " 19  ring_type                 2000 non-null   object \n",
            " 20  spore_print_color         2000 non-null   object \n",
            " 21  population                2000 non-null   object \n",
            " 22  habitat                   2000 non-null   object \n",
            " 23  class                     2000 non-null   object \n",
            " 24  stalk_height              2000 non-null   float64\n",
            " 25  cap_diameter              2000 non-null   float64\n",
            "dtypes: float64(2), int64(1), object(23)\n",
            "memory usage: 406.4+ KB\n"
          ]
        }
      ]
    },
    {
      "cell_type": "code",
      "source": [
        "#Statistics Summery\n",
        "data.describe()"
      ],
      "metadata": {
        "colab": {
          "base_uri": "https://localhost:8080/",
          "height": 300
        },
        "id": "UPfV6XLkykFS",
        "outputId": "914f945d-1f92-4ef7-864f-23ef4b3bed8a"
      },
      "execution_count": null,
      "outputs": [
        {
          "output_type": "execute_result",
          "data": {
            "text/plain": [
              "        Unnamed: 0  stalk_height  cap_diameter\n",
              "count  2000.000000   2000.000000   2000.000000\n",
              "mean    624.974000      8.449118     12.314345\n",
              "std     375.091938      3.697217      7.048845\n",
              "min       0.000000      2.000000      1.000000\n",
              "25%     290.000000      5.291009      5.723521\n",
              "50%     607.000000      8.318596     12.124902\n",
              "75%     957.250000     11.781272     18.698605\n",
              "max    1279.000000     15.095066     25.000054"
            ],
            "text/html": [
              "\n",
              "  <div id=\"df-d77a5b4a-5e92-45cf-be40-74104409ddb3\" class=\"colab-df-container\">\n",
              "    <div>\n",
              "<style scoped>\n",
              "    .dataframe tbody tr th:only-of-type {\n",
              "        vertical-align: middle;\n",
              "    }\n",
              "\n",
              "    .dataframe tbody tr th {\n",
              "        vertical-align: top;\n",
              "    }\n",
              "\n",
              "    .dataframe thead th {\n",
              "        text-align: right;\n",
              "    }\n",
              "</style>\n",
              "<table border=\"1\" class=\"dataframe\">\n",
              "  <thead>\n",
              "    <tr style=\"text-align: right;\">\n",
              "      <th></th>\n",
              "      <th>Unnamed: 0</th>\n",
              "      <th>stalk_height</th>\n",
              "      <th>cap_diameter</th>\n",
              "    </tr>\n",
              "  </thead>\n",
              "  <tbody>\n",
              "    <tr>\n",
              "      <th>count</th>\n",
              "      <td>2000.000000</td>\n",
              "      <td>2000.000000</td>\n",
              "      <td>2000.000000</td>\n",
              "    </tr>\n",
              "    <tr>\n",
              "      <th>mean</th>\n",
              "      <td>624.974000</td>\n",
              "      <td>8.449118</td>\n",
              "      <td>12.314345</td>\n",
              "    </tr>\n",
              "    <tr>\n",
              "      <th>std</th>\n",
              "      <td>375.091938</td>\n",
              "      <td>3.697217</td>\n",
              "      <td>7.048845</td>\n",
              "    </tr>\n",
              "    <tr>\n",
              "      <th>min</th>\n",
              "      <td>0.000000</td>\n",
              "      <td>2.000000</td>\n",
              "      <td>1.000000</td>\n",
              "    </tr>\n",
              "    <tr>\n",
              "      <th>25%</th>\n",
              "      <td>290.000000</td>\n",
              "      <td>5.291009</td>\n",
              "      <td>5.723521</td>\n",
              "    </tr>\n",
              "    <tr>\n",
              "      <th>50%</th>\n",
              "      <td>607.000000</td>\n",
              "      <td>8.318596</td>\n",
              "      <td>12.124902</td>\n",
              "    </tr>\n",
              "    <tr>\n",
              "      <th>75%</th>\n",
              "      <td>957.250000</td>\n",
              "      <td>11.781272</td>\n",
              "      <td>18.698605</td>\n",
              "    </tr>\n",
              "    <tr>\n",
              "      <th>max</th>\n",
              "      <td>1279.000000</td>\n",
              "      <td>15.095066</td>\n",
              "      <td>25.000054</td>\n",
              "    </tr>\n",
              "  </tbody>\n",
              "</table>\n",
              "</div>\n",
              "    <div class=\"colab-df-buttons\">\n",
              "\n",
              "  <div class=\"colab-df-container\">\n",
              "    <button class=\"colab-df-convert\" onclick=\"convertToInteractive('df-d77a5b4a-5e92-45cf-be40-74104409ddb3')\"\n",
              "            title=\"Convert this dataframe to an interactive table.\"\n",
              "            style=\"display:none;\">\n",
              "\n",
              "  <svg xmlns=\"http://www.w3.org/2000/svg\" height=\"24px\" viewBox=\"0 -960 960 960\">\n",
              "    <path d=\"M120-120v-720h720v720H120Zm60-500h600v-160H180v160Zm220 220h160v-160H400v160Zm0 220h160v-160H400v160ZM180-400h160v-160H180v160Zm440 0h160v-160H620v160ZM180-180h160v-160H180v160Zm440 0h160v-160H620v160Z\"/>\n",
              "  </svg>\n",
              "    </button>\n",
              "\n",
              "  <style>\n",
              "    .colab-df-container {\n",
              "      display:flex;\n",
              "      gap: 12px;\n",
              "    }\n",
              "\n",
              "    .colab-df-convert {\n",
              "      background-color: #E8F0FE;\n",
              "      border: none;\n",
              "      border-radius: 50%;\n",
              "      cursor: pointer;\n",
              "      display: none;\n",
              "      fill: #1967D2;\n",
              "      height: 32px;\n",
              "      padding: 0 0 0 0;\n",
              "      width: 32px;\n",
              "    }\n",
              "\n",
              "    .colab-df-convert:hover {\n",
              "      background-color: #E2EBFA;\n",
              "      box-shadow: 0px 1px 2px rgba(60, 64, 67, 0.3), 0px 1px 3px 1px rgba(60, 64, 67, 0.15);\n",
              "      fill: #174EA6;\n",
              "    }\n",
              "\n",
              "    .colab-df-buttons div {\n",
              "      margin-bottom: 4px;\n",
              "    }\n",
              "\n",
              "    [theme=dark] .colab-df-convert {\n",
              "      background-color: #3B4455;\n",
              "      fill: #D2E3FC;\n",
              "    }\n",
              "\n",
              "    [theme=dark] .colab-df-convert:hover {\n",
              "      background-color: #434B5C;\n",
              "      box-shadow: 0px 1px 3px 1px rgba(0, 0, 0, 0.15);\n",
              "      filter: drop-shadow(0px 1px 2px rgba(0, 0, 0, 0.3));\n",
              "      fill: #FFFFFF;\n",
              "    }\n",
              "  </style>\n",
              "\n",
              "    <script>\n",
              "      const buttonEl =\n",
              "        document.querySelector('#df-d77a5b4a-5e92-45cf-be40-74104409ddb3 button.colab-df-convert');\n",
              "      buttonEl.style.display =\n",
              "        google.colab.kernel.accessAllowed ? 'block' : 'none';\n",
              "\n",
              "      async function convertToInteractive(key) {\n",
              "        const element = document.querySelector('#df-d77a5b4a-5e92-45cf-be40-74104409ddb3');\n",
              "        const dataTable =\n",
              "          await google.colab.kernel.invokeFunction('convertToInteractive',\n",
              "                                                    [key], {});\n",
              "        if (!dataTable) return;\n",
              "\n",
              "        const docLinkHtml = 'Like what you see? Visit the ' +\n",
              "          '<a target=\"_blank\" href=https://colab.research.google.com/notebooks/data_table.ipynb>data table notebook</a>'\n",
              "          + ' to learn more about interactive tables.';\n",
              "        element.innerHTML = '';\n",
              "        dataTable['output_type'] = 'display_data';\n",
              "        await google.colab.output.renderOutput(dataTable, element);\n",
              "        const docLink = document.createElement('div');\n",
              "        docLink.innerHTML = docLinkHtml;\n",
              "        element.appendChild(docLink);\n",
              "      }\n",
              "    </script>\n",
              "  </div>\n",
              "\n",
              "\n",
              "<div id=\"df-fda7706c-92ac-4686-9f98-44500680b1ed\">\n",
              "  <button class=\"colab-df-quickchart\" onclick=\"quickchart('df-fda7706c-92ac-4686-9f98-44500680b1ed')\"\n",
              "            title=\"Suggest charts\"\n",
              "            style=\"display:none;\">\n",
              "\n",
              "<svg xmlns=\"http://www.w3.org/2000/svg\" height=\"24px\"viewBox=\"0 0 24 24\"\n",
              "     width=\"24px\">\n",
              "    <g>\n",
              "        <path d=\"M19 3H5c-1.1 0-2 .9-2 2v14c0 1.1.9 2 2 2h14c1.1 0 2-.9 2-2V5c0-1.1-.9-2-2-2zM9 17H7v-7h2v7zm4 0h-2V7h2v10zm4 0h-2v-4h2v4z\"/>\n",
              "    </g>\n",
              "</svg>\n",
              "  </button>\n",
              "\n",
              "<style>\n",
              "  .colab-df-quickchart {\n",
              "      --bg-color: #E8F0FE;\n",
              "      --fill-color: #1967D2;\n",
              "      --hover-bg-color: #E2EBFA;\n",
              "      --hover-fill-color: #174EA6;\n",
              "      --disabled-fill-color: #AAA;\n",
              "      --disabled-bg-color: #DDD;\n",
              "  }\n",
              "\n",
              "  [theme=dark] .colab-df-quickchart {\n",
              "      --bg-color: #3B4455;\n",
              "      --fill-color: #D2E3FC;\n",
              "      --hover-bg-color: #434B5C;\n",
              "      --hover-fill-color: #FFFFFF;\n",
              "      --disabled-bg-color: #3B4455;\n",
              "      --disabled-fill-color: #666;\n",
              "  }\n",
              "\n",
              "  .colab-df-quickchart {\n",
              "    background-color: var(--bg-color);\n",
              "    border: none;\n",
              "    border-radius: 50%;\n",
              "    cursor: pointer;\n",
              "    display: none;\n",
              "    fill: var(--fill-color);\n",
              "    height: 32px;\n",
              "    padding: 0;\n",
              "    width: 32px;\n",
              "  }\n",
              "\n",
              "  .colab-df-quickchart:hover {\n",
              "    background-color: var(--hover-bg-color);\n",
              "    box-shadow: 0 1px 2px rgba(60, 64, 67, 0.3), 0 1px 3px 1px rgba(60, 64, 67, 0.15);\n",
              "    fill: var(--button-hover-fill-color);\n",
              "  }\n",
              "\n",
              "  .colab-df-quickchart-complete:disabled,\n",
              "  .colab-df-quickchart-complete:disabled:hover {\n",
              "    background-color: var(--disabled-bg-color);\n",
              "    fill: var(--disabled-fill-color);\n",
              "    box-shadow: none;\n",
              "  }\n",
              "\n",
              "  .colab-df-spinner {\n",
              "    border: 2px solid var(--fill-color);\n",
              "    border-color: transparent;\n",
              "    border-bottom-color: var(--fill-color);\n",
              "    animation:\n",
              "      spin 1s steps(1) infinite;\n",
              "  }\n",
              "\n",
              "  @keyframes spin {\n",
              "    0% {\n",
              "      border-color: transparent;\n",
              "      border-bottom-color: var(--fill-color);\n",
              "      border-left-color: var(--fill-color);\n",
              "    }\n",
              "    20% {\n",
              "      border-color: transparent;\n",
              "      border-left-color: var(--fill-color);\n",
              "      border-top-color: var(--fill-color);\n",
              "    }\n",
              "    30% {\n",
              "      border-color: transparent;\n",
              "      border-left-color: var(--fill-color);\n",
              "      border-top-color: var(--fill-color);\n",
              "      border-right-color: var(--fill-color);\n",
              "    }\n",
              "    40% {\n",
              "      border-color: transparent;\n",
              "      border-right-color: var(--fill-color);\n",
              "      border-top-color: var(--fill-color);\n",
              "    }\n",
              "    60% {\n",
              "      border-color: transparent;\n",
              "      border-right-color: var(--fill-color);\n",
              "    }\n",
              "    80% {\n",
              "      border-color: transparent;\n",
              "      border-right-color: var(--fill-color);\n",
              "      border-bottom-color: var(--fill-color);\n",
              "    }\n",
              "    90% {\n",
              "      border-color: transparent;\n",
              "      border-bottom-color: var(--fill-color);\n",
              "    }\n",
              "  }\n",
              "</style>\n",
              "\n",
              "  <script>\n",
              "    async function quickchart(key) {\n",
              "      const quickchartButtonEl =\n",
              "        document.querySelector('#' + key + ' button');\n",
              "      quickchartButtonEl.disabled = true;  // To prevent multiple clicks.\n",
              "      quickchartButtonEl.classList.add('colab-df-spinner');\n",
              "      try {\n",
              "        const charts = await google.colab.kernel.invokeFunction(\n",
              "            'suggestCharts', [key], {});\n",
              "      } catch (error) {\n",
              "        console.error('Error during call to suggestCharts:', error);\n",
              "      }\n",
              "      quickchartButtonEl.classList.remove('colab-df-spinner');\n",
              "      quickchartButtonEl.classList.add('colab-df-quickchart-complete');\n",
              "    }\n",
              "    (() => {\n",
              "      let quickchartButtonEl =\n",
              "        document.querySelector('#df-fda7706c-92ac-4686-9f98-44500680b1ed button');\n",
              "      quickchartButtonEl.style.display =\n",
              "        google.colab.kernel.accessAllowed ? 'block' : 'none';\n",
              "    })();\n",
              "  </script>\n",
              "</div>\n",
              "\n",
              "    </div>\n",
              "  </div>\n"
            ],
            "application/vnd.google.colaboratory.intrinsic+json": {
              "type": "dataframe",
              "summary": "{\n  \"name\": \"data\",\n  \"rows\": 8,\n  \"fields\": [\n    {\n      \"column\": \"Unnamed: 0\",\n      \"properties\": {\n        \"dtype\": \"number\",\n        \"std\": 636.2623532727166,\n        \"min\": 0.0,\n        \"max\": 2000.0,\n        \"num_unique_values\": 8,\n        \"samples\": [\n          624.974,\n          607.0,\n          2000.0\n        ],\n        \"semantic_type\": \"\",\n        \"description\": \"\"\n      }\n    },\n    {\n      \"column\": \"stalk_height\",\n      \"properties\": {\n        \"dtype\": \"number\",\n        \"std\": 704.3602655325925,\n        \"min\": 2.0,\n        \"max\": 2000.0,\n        \"num_unique_values\": 8,\n        \"samples\": [\n          8.44911804190226,\n          8.318595882841752,\n          2000.0\n        ],\n        \"semantic_type\": \"\",\n        \"description\": \"\"\n      }\n    },\n    {\n      \"column\": \"cap_diameter\",\n      \"properties\": {\n        \"dtype\": \"number\",\n        \"std\": 703.0101548222889,\n        \"min\": 1.0,\n        \"max\": 2000.0,\n        \"num_unique_values\": 8,\n        \"samples\": [\n          12.314344784177193,\n          12.124901573693194,\n          2000.0\n        ],\n        \"semantic_type\": \"\",\n        \"description\": \"\"\n      }\n    }\n  ]\n}"
            }
          },
          "metadata": {},
          "execution_count": 8
        }
      ]
    },
    {
      "cell_type": "code",
      "source": [
        "data.shape"
      ],
      "metadata": {
        "colab": {
          "base_uri": "https://localhost:8080/"
        },
        "id": "dfjJ55gKyprK",
        "outputId": "b4fecd34-109d-41a8-fe89-3da7bf4c2be8"
      },
      "execution_count": null,
      "outputs": [
        {
          "output_type": "execute_result",
          "data": {
            "text/plain": [
              "(2000, 26)"
            ]
          },
          "metadata": {},
          "execution_count": 9
        }
      ]
    },
    {
      "cell_type": "code",
      "source": [
        "#Check for null values\n",
        "data.isnull().sum()"
      ],
      "metadata": {
        "colab": {
          "base_uri": "https://localhost:8080/",
          "height": 899
        },
        "id": "XOLjWPnOyw_6",
        "outputId": "b4dd973a-6d9b-42f7-a6a7-f1f7cb6a83d3"
      },
      "execution_count": null,
      "outputs": [
        {
          "output_type": "execute_result",
          "data": {
            "text/plain": [
              "Unnamed: 0                  0\n",
              "cap_shape                   0\n",
              "cap_surface                 0\n",
              "cap_color                   0\n",
              "bruises                     0\n",
              "odor                        0\n",
              "gill_attachment             0\n",
              "gill_spacing                0\n",
              "gill_size                   0\n",
              "gill_color                  0\n",
              "stalk_shape                 0\n",
              "stalk_root                  0\n",
              "stalk_surface_above_ring    0\n",
              "stalk_surface_below_ring    0\n",
              "stalk_color_above_ring      0\n",
              "stalk_color_below_ring      0\n",
              "veil_type                   0\n",
              "veil_color                  0\n",
              "ring_number                 0\n",
              "ring_type                   0\n",
              "spore_print_color           0\n",
              "population                  0\n",
              "habitat                     0\n",
              "class                       0\n",
              "stalk_height                0\n",
              "cap_diameter                0\n",
              "dtype: int64"
            ],
            "text/html": [
              "<div>\n",
              "<style scoped>\n",
              "    .dataframe tbody tr th:only-of-type {\n",
              "        vertical-align: middle;\n",
              "    }\n",
              "\n",
              "    .dataframe tbody tr th {\n",
              "        vertical-align: top;\n",
              "    }\n",
              "\n",
              "    .dataframe thead th {\n",
              "        text-align: right;\n",
              "    }\n",
              "</style>\n",
              "<table border=\"1\" class=\"dataframe\">\n",
              "  <thead>\n",
              "    <tr style=\"text-align: right;\">\n",
              "      <th></th>\n",
              "      <th>0</th>\n",
              "    </tr>\n",
              "  </thead>\n",
              "  <tbody>\n",
              "    <tr>\n",
              "      <th>Unnamed: 0</th>\n",
              "      <td>0</td>\n",
              "    </tr>\n",
              "    <tr>\n",
              "      <th>cap_shape</th>\n",
              "      <td>0</td>\n",
              "    </tr>\n",
              "    <tr>\n",
              "      <th>cap_surface</th>\n",
              "      <td>0</td>\n",
              "    </tr>\n",
              "    <tr>\n",
              "      <th>cap_color</th>\n",
              "      <td>0</td>\n",
              "    </tr>\n",
              "    <tr>\n",
              "      <th>bruises</th>\n",
              "      <td>0</td>\n",
              "    </tr>\n",
              "    <tr>\n",
              "      <th>odor</th>\n",
              "      <td>0</td>\n",
              "    </tr>\n",
              "    <tr>\n",
              "      <th>gill_attachment</th>\n",
              "      <td>0</td>\n",
              "    </tr>\n",
              "    <tr>\n",
              "      <th>gill_spacing</th>\n",
              "      <td>0</td>\n",
              "    </tr>\n",
              "    <tr>\n",
              "      <th>gill_size</th>\n",
              "      <td>0</td>\n",
              "    </tr>\n",
              "    <tr>\n",
              "      <th>gill_color</th>\n",
              "      <td>0</td>\n",
              "    </tr>\n",
              "    <tr>\n",
              "      <th>stalk_shape</th>\n",
              "      <td>0</td>\n",
              "    </tr>\n",
              "    <tr>\n",
              "      <th>stalk_root</th>\n",
              "      <td>0</td>\n",
              "    </tr>\n",
              "    <tr>\n",
              "      <th>stalk_surface_above_ring</th>\n",
              "      <td>0</td>\n",
              "    </tr>\n",
              "    <tr>\n",
              "      <th>stalk_surface_below_ring</th>\n",
              "      <td>0</td>\n",
              "    </tr>\n",
              "    <tr>\n",
              "      <th>stalk_color_above_ring</th>\n",
              "      <td>0</td>\n",
              "    </tr>\n",
              "    <tr>\n",
              "      <th>stalk_color_below_ring</th>\n",
              "      <td>0</td>\n",
              "    </tr>\n",
              "    <tr>\n",
              "      <th>veil_type</th>\n",
              "      <td>0</td>\n",
              "    </tr>\n",
              "    <tr>\n",
              "      <th>veil_color</th>\n",
              "      <td>0</td>\n",
              "    </tr>\n",
              "    <tr>\n",
              "      <th>ring_number</th>\n",
              "      <td>0</td>\n",
              "    </tr>\n",
              "    <tr>\n",
              "      <th>ring_type</th>\n",
              "      <td>0</td>\n",
              "    </tr>\n",
              "    <tr>\n",
              "      <th>spore_print_color</th>\n",
              "      <td>0</td>\n",
              "    </tr>\n",
              "    <tr>\n",
              "      <th>population</th>\n",
              "      <td>0</td>\n",
              "    </tr>\n",
              "    <tr>\n",
              "      <th>habitat</th>\n",
              "      <td>0</td>\n",
              "    </tr>\n",
              "    <tr>\n",
              "      <th>class</th>\n",
              "      <td>0</td>\n",
              "    </tr>\n",
              "    <tr>\n",
              "      <th>stalk_height</th>\n",
              "      <td>0</td>\n",
              "    </tr>\n",
              "    <tr>\n",
              "      <th>cap_diameter</th>\n",
              "      <td>0</td>\n",
              "    </tr>\n",
              "  </tbody>\n",
              "</table>\n",
              "</div><br><label><b>dtype:</b> int64</label>"
            ]
          },
          "metadata": {},
          "execution_count": 10
        }
      ]
    },
    {
      "cell_type": "markdown",
      "source": [
        "### **Histogram:**"
      ],
      "metadata": {
        "id": "d_2xhHuczNLd"
      }
    },
    {
      "cell_type": "code",
      "source": [
        "plt.figure(figsize=(18, 6))\n",
        "\n",
        "# Stalk Height Distribution\n",
        "plt.subplot(1, 2, 1)\n",
        "sns.histplot(data['stalk_height'], kde=True, color='blue')\n",
        "plt.title('Distribution of Stalk Height')\n",
        "\n",
        "# Cap Diameter Distribution\n",
        "plt.subplot(1, 2, 2)\n",
        "sns.histplot(data['cap_diameter'], kde=True, color='green')\n",
        "plt.title('Distribution of Cap Diameter')\n",
        "\n",
        "plt.tight_layout()\n",
        "plt.show()"
      ],
      "metadata": {
        "colab": {
          "base_uri": "https://localhost:8080/",
          "height": 265
        },
        "id": "h-3WoWO-y0MG",
        "outputId": "d8fd844c-076b-4a62-dfca-a3888998e44d"
      },
      "execution_count": null,
      "outputs": [
        {
          "output_type": "display_data",
          "data": {
            "text/plain": [
              "<Figure size 1800x600 with 2 Axes>"
            ],
            "image/png": "[encoded data removed]"
          },
          "metadata": {}
        }
      ]
    },
    {
      "cell_type": "markdown",
      "source": [
        "### **Box Plot:**"
      ],
      "metadata": {
        "id": "lzN5YYY4zpVo"
      }
    },
    {
      "cell_type": "code",
      "source": [
        "plt.figure(figsize=(14, 6))\n",
        "\n",
        "# Box plot for 'stalk_height'\n",
        "plt.subplot(1, 2, 1)\n",
        "sns.boxplot(y=data['stalk_height'], color='lightblue')\n",
        "plt.title('Box Plot of Stalk Height')\n",
        "\n",
        "# Box plot for 'cap_diameter'\n",
        "plt.subplot(1, 2, 2)\n",
        "sns.boxplot(y=data['cap_diameter'], color='lightgreen')\n",
        "plt.title('Box Plot of Cap Diameter')\n",
        "\n",
        "# Display the plots\n",
        "plt.tight_layout()\n",
        "plt.show()"
      ],
      "metadata": {
        "colab": {
          "base_uri": "https://localhost:8080/",
          "height": 335
        },
        "id": "xB9Sygs8zf_V",
        "outputId": "ad070620-b6ec-45b8-e5d5-f55ef4780dcd"
      },
      "execution_count": null,
      "outputs": [
        {
          "output_type": "display_data",
          "data": {
            "text/plain": [
              "<Figure size 1400x600 with 2 Axes>"
            ],
            "image/png": "[encoded data removed]"
          },
          "metadata": {}
        }
      ]
    },
    {
      "cell_type": "markdown",
      "source": [
        "**Investigate feature correlations to discern relationships within the data**"
      ],
      "metadata": {
        "id": "6HhGD40yz6_0"
      }
    },
    {
      "cell_type": "code",
      "source": [
        "# Correlation matrix for numerical features\n",
        "correlation_matrix = data[['stalk_height', 'cap_diameter']].corr()\n",
        "\n",
        "# Plotting the correlation matrix\n",
        "plt.figure(figsize=(8, 6))\n",
        "sns.heatmap(correlation_matrix, annot=True, cmap='coolwarm')\n",
        "plt.title('Correlation Matrix of Numerical Features')\n",
        "plt.show()\n"
      ],
      "metadata": {
        "id": "nfn9Yjt8z6Z8",
        "colab": {
          "base_uri": "https://localhost:8080/",
          "height": 545
        },
        "outputId": "9d854e87-f622-4556-ca79-54757b36ebe6"
      },
      "execution_count": null,
      "outputs": [
        {
          "output_type": "display_data",
          "data": {
            "text/plain": [
              "<Figure size 800x600 with 2 Axes>"
            ],
            "image/png": "[encoded data removed]"
          },
          "metadata": {}
        }
      ]
    },
    {
      "cell_type": "markdown",
      "source": [
        "## **Data Preprocessing:**"
      ],
      "metadata": {
        "id": "XkXiqtHB0mwj"
      }
    },
    {
      "cell_type": "code",
      "source": [
        "# Encode categorical variables using one-hot encoding\n",
        "data1 = pd.get_dummies(data, drop_first=True)\n",
        "\n",
        "# Check the encoded dataset\n",
        "print(data1.head())\n"
      ],
      "metadata": {
        "colab": {
          "base_uri": "https://localhost:8080/"
        },
        "id": "XOLbIp6M0mbV",
        "outputId": "c5346287-4352-4cde-e0e3-ad2a4a4697f2"
      },
      "execution_count": null,
      "outputs": [
        {
          "output_type": "stream",
          "name": "stdout",
          "text": [
            "   Unnamed: 0  stalk_height  cap_diameter  cap_shape_conical  \\\n",
            "0        1167     14.276173      5.054983              False   \n",
            "1        1037      3.952715     19.068319              False   \n",
            "2         309      9.054265      7.205884              False   \n",
            "3         282      5.226499     20.932692              False   \n",
            "4         820     14.037532     12.545245              False   \n",
            "\n",
            "   cap_shape_convex  cap_shape_flat  cap_shape_sunken  cap_surface_grooves  \\\n",
            "0             False           False              True                False   \n",
            "1             False           False              True                False   \n",
            "2             False            True             False                 True   \n",
            "3             False           False             False                False   \n",
            "4             False            True             False                False   \n",
            "\n",
            "   cap_surface_scaly  cap_surface_smooth  ...  population_scattered  \\\n",
            "0               True               False  ...                 False   \n",
            "1              False               False  ...                 False   \n",
            "2              False               False  ...                 False   \n",
            "3               True               False  ...                 False   \n",
            "4              False                True  ...                 False   \n",
            "\n",
            "   population_several  population_solitary  habitat_leaves  habitat_meadows  \\\n",
            "0               False                False           False            False   \n",
            "1               False                False           False            False   \n",
            "2               False                False           False            False   \n",
            "3               False                False           False            False   \n",
            "4               False                False           False            False   \n",
            "\n",
            "   habitat_paths  habitat_urban  habitat_waste  habitat_woods  class_poisonous  \n",
            "0          False          False           True          False             True  \n",
            "1          False          False           True          False            False  \n",
            "2          False          False           True          False             True  \n",
            "3          False          False          False          False             True  \n",
            "4          False           True          False          False             True  \n",
            "\n",
            "[5 rows x 106 columns]\n"
          ]
        }
      ]
    },
    {
      "cell_type": "markdown",
      "source": [
        "**Split the dataset into training and testing sets**"
      ],
      "metadata": {
        "id": "lZWFgWjY1cyB"
      }
    },
    {
      "cell_type": "code",
      "source": [
        "from sklearn.model_selection import train_test_split\n",
        "\n",
        "# Split the dataset into features and target variable\n",
        "X = data1[['stalk_height','cap_diameter']]\n",
        "y = data1['class_poisonous']\n",
        "\n",
        "# Splitting the dataset into training and testing sets\n",
        "X_train, X_test, y_train, y_test = train_test_split(X, y, test_size=0.3, random_state=42)\n",
        "\n",
        "# Check the shapes of the resulting datasets\n",
        "print(X_train.shape, X_test.shape, y_train.shape, y_test.shape)\n"
      ],
      "metadata": {
        "colab": {
          "base_uri": "https://localhost:8080/"
        },
        "id": "dBkGpIwd1jo4",
        "outputId": "7b96a501-dad9-4bb1-ab42-e383a1eaa6c2"
      },
      "execution_count": null,
      "outputs": [
        {
          "output_type": "stream",
          "name": "stdout",
          "text": [
            "(1400, 2) (600, 2) (1400,) (600,)\n"
          ]
        }
      ]
    },
    {
      "cell_type": "markdown",
      "source": [
        "## **Data Visualization:**"
      ],
      "metadata": {
        "id": "WAHno2r317An"
      }
    },
    {
      "cell_type": "markdown",
      "source": [
        "**Scatter Plot**"
      ],
      "metadata": {
        "id": "2NcLuaFR1-fz"
      }
    },
    {
      "cell_type": "code",
      "source": [
        "# Scatter plot between 'stalk_height' and 'cap_diameter'\n",
        "plt.figure(figsize=(8, 6))\n",
        "sns.scatterplot(data=data1, x='stalk_height', y='cap_diameter')\n",
        "plt.title('Scatter Plot of Stalk Height vs Cap Diameter')\n",
        "plt.show()\n"
      ],
      "metadata": {
        "colab": {
          "base_uri": "https://localhost:8080/",
          "height": 564
        },
        "id": "zWy1QrHJ2ION",
        "outputId": "0aff5910-67a1-4d31-bfef-cff003b76c35"
      },
      "execution_count": null,
      "outputs": [
        {
          "output_type": "display_data",
          "data": {
            "text/plain": [
              "<Figure size 800x600 with 1 Axes>"
            ],
            "image/png": "[encoded data removed]"
          },
          "metadata": {}
        }
      ]
    },
    {
      "cell_type": "markdown",
      "source": [
        "**Bar Plot**"
      ],
      "metadata": {
        "id": "ii47NgUl1Nc5"
      }
    },
    {
      "cell_type": "code",
      "source": [
        "plt.figure(figsize=(8, 6))\n",
        "\n",
        "# Plot the distribution of the 'class' column\n",
        "sns.countplot(x='class', data=data, palette='coolwarm')\n",
        "\n",
        "# Add title and labels\n",
        "plt.title('Class Distribution (Edible vs Poisonous Mushrooms)')\n",
        "plt.xlabel('Class')\n",
        "plt.ylabel('Count')\n",
        "\n",
        "# Show the plot\n",
        "plt.show()\n"
      ],
      "metadata": {
        "colab": {
          "base_uri": "https://localhost:8080/",
          "height": 564
        },
        "id": "SzyxB-aT0f2P",
        "outputId": "d4dbe426-3e4f-4d6f-9699-bf7db5762a0b"
      },
      "execution_count": null,
      "outputs": [
        {
          "output_type": "display_data",
          "data": {
            "text/plain": [
              "<Figure size 800x600 with 1 Axes>"
            ],
            "image/png": "[encoded data removed]"
          },
          "metadata": {}
        }
      ]
    },
    {
      "cell_type": "markdown",
      "source": [
        "## **SVM Implementation:**"
      ],
      "metadata": {
        "id": "xO2mt0Hn1emv"
      }
    },
    {
      "cell_type": "markdown",
      "source": [
        "**Normalization:**"
      ],
      "metadata": {
        "id": "03kOm0-z0o52"
      }
    },
    {
      "cell_type": "code",
      "source": [
        "def norm_func(i):\n",
        "    x = (i-i.min())/(i.max()-i.min())\n",
        "    return (x)"
      ],
      "metadata": {
        "id": "crUyBdI82nRY"
      },
      "execution_count": null,
      "outputs": []
    },
    {
      "cell_type": "code",
      "source": [
        "x_train = norm_func(X_train)\n",
        "x_test =  norm_func(X_test)"
      ],
      "metadata": {
        "id": "FB2BiwWWu_7P"
      },
      "execution_count": null,
      "outputs": []
    },
    {
      "cell_type": "markdown",
      "source": [
        "**Linear SVM:**"
      ],
      "metadata": {
        "id": "3flhrz9b0vJc"
      }
    },
    {
      "cell_type": "code",
      "source": [
        "from sklearn.svm import SVC\n",
        "from sklearn.metrics import classification_report, confusion_matrix, accuracy_score\n",
        "\n",
        "# Initialize the SVM classifier\n",
        "svm_classifier = SVC(kernel='linear', random_state=42)\n",
        "\n",
        "# Train the SVM model on the training data\n",
        "svm_classifier.fit(x_train, y_train)\n",
        "\n",
        "# Predict on the test data\n",
        "y_pred = svm_classifier.predict(x_test)\n",
        "\n",
        "# Evaluate the model's performance\n",
        "print(\"Confusion Matrix:\")\n",
        "print(confusion_matrix(y_test, y_pred))\n",
        "print(\"\\nClassification Report:\")\n",
        "print(classification_report(y_test, y_pred))\n",
        "\n",
        "# Calculate accuracy\n",
        "accuracy = accuracy_score(y_test, y_pred)\n",
        "print(\"\\nAccuracy:\", accuracy)\n"
      ],
      "metadata": {
        "colab": {
          "base_uri": "https://localhost:8080/"
        },
        "id": "r8EbH3bAwv6R",
        "outputId": "12c4671b-f4f2-4170-9ca4-42bf518aa9c1"
      },
      "execution_count": null,
      "outputs": [
        {
          "output_type": "stream",
          "name": "stdout",
          "text": [
            "Confusion Matrix:\n",
            "[[  0 185]\n",
            " [  0 415]]\n",
            "\n",
            "Classification Report:\n",
            "              precision    recall  f1-score   support\n",
            "\n",
            "       False       0.00      0.00      0.00       185\n",
            "        True       0.69      1.00      0.82       415\n",
            "\n",
            "    accuracy                           0.69       600\n",
            "   macro avg       0.35      0.50      0.41       600\n",
            "weighted avg       0.48      0.69      0.57       600\n",
            "\n",
            "\n",
            "Accuracy: 0.6916666666666667\n"
          ]
        }
      ]
    },
    {
      "cell_type": "markdown",
      "source": [
        "**Visualization of SVM model:**"
      ],
      "metadata": {
        "id": "45IlMt3w03GX"
      }
    },
    {
      "cell_type": "code",
      "source": [
        "from sklearn.decomposition import PCA\n",
        "\n",
        "# Reduce the dimensions of the dataset to 2D for visualization\n",
        "pca = PCA(n_components=2)\n",
        "X_test_pca = pca.fit_transform(x_test)\n",
        "\n",
        "# Plot the SVM classification results\n",
        "plt.figure(figsize=(8, 6))\n",
        "sns.scatterplot(x=X_test_pca[:, 0], y=X_test_pca[:, 1], hue=y_pred, palette='coolwarm')\n",
        "plt.title('SVM Classification Results (2D PCA)')\n",
        "plt.show()\n"
      ],
      "metadata": {
        "colab": {
          "base_uri": "https://localhost:8080/",
          "height": 545
        },
        "id": "_FF2KATfxaIZ",
        "outputId": "75752715-2e85-4702-829b-c5217b4db942"
      },
      "execution_count": null,
      "outputs": [
        {
          "output_type": "display_data",
          "data": {
            "text/plain": [
              "<Figure size 800x600 with 1 Axes>"
            ],
            "image/png": "[encoded data removed]"
          },
          "metadata": {}
        }
      ]
    },
    {
      "cell_type": "markdown",
      "source": [
        "**RBF SVM:**"
      ],
      "metadata": {
        "id": "smY9DO_11Awf"
      }
    },
    {
      "cell_type": "code",
      "source": [
        "# Tuning SVM with a different kernel\n",
        "svm_classifier_rbf = SVC(kernel='rbf', random_state=7)\n",
        "svm_classifier_rbf.fit(x_train, y_train)\n",
        "\n",
        "# Predict with RBF kernel\n",
        "y_pred_rbf = svm_classifier_rbf.predict(x_test)\n",
        "\n",
        "# Evaluate the model's performance with RBF kernel\n",
        "print(confusion_matrix(y_test, y_pred_rbf))\n",
        "print(classification_report(y_test, y_pred_rbf))\n",
        "pred_test_rbf = svm_classifier_rbf.predict(x_test)\n",
        "print(\"Accuracy:\",accuracy_score(y_test, pred_test_rbf))"
      ],
      "metadata": {
        "colab": {
          "base_uri": "https://localhost:8080/"
        },
        "id": "fS3eXReSx3u-",
        "outputId": "aecf47e3-8805-4957-9f29-a96ce06b459d"
      },
      "execution_count": null,
      "outputs": [
        {
          "output_type": "stream",
          "name": "stdout",
          "text": [
            "[[  0 185]\n",
            " [  0 415]]\n",
            "              precision    recall  f1-score   support\n",
            "\n",
            "       False       0.00      0.00      0.00       185\n",
            "        True       0.69      1.00      0.82       415\n",
            "\n",
            "    accuracy                           0.69       600\n",
            "   macro avg       0.35      0.50      0.41       600\n",
            "weighted avg       0.48      0.69      0.57       600\n",
            "\n",
            "Accuracy: 0.6916666666666667\n"
          ]
        }
      ]
    },
    {
      "cell_type": "markdown",
      "source": [
        "**Poly SVM:**"
      ],
      "metadata": {
        "id": "BQp4-Rly1FwA"
      }
    },
    {
      "cell_type": "code",
      "source": [
        "model_poly = SVC(kernel = \"poly\")\n",
        "model_poly.fit(x_train,y_train)\n",
        "y_pred_poly = model_poly.predict(x_test)\n",
        "# Evaluate the model's performance with Poly kernel\n",
        "print(confusion_matrix(y_test, y_pred_poly))\n",
        "print(classification_report(y_test, y_pred_poly))\n",
        "print(\"Accuracy:\",accuracy_score(y_test, y_pred_poly))"
      ],
      "metadata": {
        "colab": {
          "base_uri": "https://localhost:8080/"
        },
        "id": "f3zWQZHBy86U",
        "outputId": "aa54126f-3980-4023-e050-9a4e4121ab28"
      },
      "execution_count": null,
      "outputs": [
        {
          "output_type": "stream",
          "name": "stdout",
          "text": [
            "[[  0 185]\n",
            " [  0 415]]\n",
            "              precision    recall  f1-score   support\n",
            "\n",
            "       False       0.00      0.00      0.00       185\n",
            "        True       0.69      1.00      0.82       415\n",
            "\n",
            "    accuracy                           0.69       600\n",
            "   macro avg       0.35      0.50      0.41       600\n",
            "weighted avg       0.48      0.69      0.57       600\n",
            "\n",
            "Accuracy: 0.6916666666666667\n"
          ]
        }
      ]
    },
    {
      "cell_type": "markdown",
      "source": [
        "**Sigmoid SVM:**"
      ],
      "metadata": {
        "id": "gqraacEM1KhL"
      }
    },
    {
      "cell_type": "code",
      "source": [
        "model_sigmoid = SVC(kernel = \"sigmoid\")\n",
        "model_sigmoid.fit(x_train,y_train)\n",
        "y_pred_sigmoid = model_sigmoid.predict(x_test)\n",
        "# Evaluate the model's performance with Sigmoid kernel\n",
        "print(confusion_matrix(y_test, y_pred_sigmoid))\n",
        "print(classification_report(y_test, y_pred_sigmoid))\n",
        "print(\"Accuracy:\",accuracy_score(y_test, y_pred_sigmoid))"
      ],
      "metadata": {
        "colab": {
          "base_uri": "https://localhost:8080/"
        },
        "id": "foYF5awOzHxe",
        "outputId": "5d153429-abc1-402e-f9d7-842fd10e2971"
      },
      "execution_count": null,
      "outputs": [
        {
          "output_type": "stream",
          "name": "stdout",
          "text": [
            "[[ 59 126]\n",
            " [124 291]]\n",
            "              precision    recall  f1-score   support\n",
            "\n",
            "       False       0.32      0.32      0.32       185\n",
            "        True       0.70      0.70      0.70       415\n",
            "\n",
            "    accuracy                           0.58       600\n",
            "   macro avg       0.51      0.51      0.51       600\n",
            "weighted avg       0.58      0.58      0.58       600\n",
            "\n",
            "Accuracy: 0.5833333333333334\n"
          ]
        }
      ]
    },
    {
      "cell_type": "markdown",
      "source": [
        "## **Comparison and Analysis:**"
      ],
      "metadata": {
        "id": "jTgRtGnl1RA-"
      }
    },
    {
      "cell_type": "code",
      "source": [
        "# Compare various kernel performance\n",
        "print(\"Linear Kernel Performance:\")\n",
        "print(classification_report(y_test, y_pred))\n",
        "\n",
        "print(\"\\nRBF Kernel Performance:\")\n",
        "print(classification_report(y_test, y_pred_rbf))\n",
        "\n",
        "print(\"\\nPolynomial Kernel Performance:\")\n",
        "print(classification_report(y_test, y_pred_poly))\n",
        "\n",
        "print(\"\\nSigmoid Kernel Performance:\")\n",
        "print(classification_report(y_test, y_pred_sigmoid))\n"
      ],
      "metadata": {
        "colab": {
          "base_uri": "https://localhost:8080/"
        },
        "id": "XcxtgbnNyh5y",
        "outputId": "87badf36-94d3-4e40-b548-8e2e50962320"
      },
      "execution_count": null,
      "outputs": [
        {
          "output_type": "stream",
          "name": "stdout",
          "text": [
            "Linear Kernel Performance:\n",
            "              precision    recall  f1-score   support\n",
            "\n",
            "       False       0.00      0.00      0.00       185\n",
            "        True       0.69      1.00      0.82       415\n",
            "\n",
            "    accuracy                           0.69       600\n",
            "   macro avg       0.35      0.50      0.41       600\n",
            "weighted avg       0.48      0.69      0.57       600\n",
            "\n",
            "\n",
            "RBF Kernel Performance:\n",
            "              precision    recall  f1-score   support\n",
            "\n",
            "       False       0.00      0.00      0.00       185\n",
            "        True       0.69      1.00      0.82       415\n",
            "\n",
            "    accuracy                           0.69       600\n",
            "   macro avg       0.35      0.50      0.41       600\n",
            "weighted avg       0.48      0.69      0.57       600\n",
            "\n",
            "\n",
            "Polynomial Kernel Performance:\n",
            "              precision    recall  f1-score   support\n",
            "\n",
            "       False       0.00      0.00      0.00       185\n",
            "        True       0.69      1.00      0.82       415\n",
            "\n",
            "    accuracy                           0.69       600\n",
            "   macro avg       0.35      0.50      0.41       600\n",
            "weighted avg       0.48      0.69      0.57       600\n",
            "\n",
            "\n",
            "Sigmoid Kernel Performance:\n",
            "              precision    recall  f1-score   support\n",
            "\n",
            "       False       0.32      0.32      0.32       185\n",
            "        True       0.70      0.70      0.70       415\n",
            "\n",
            "    accuracy                           0.58       600\n",
            "   macro avg       0.51      0.51      0.51       600\n",
            "weighted avg       0.58      0.58      0.58       600\n",
            "\n"
          ]
        }
      ]
    },
    {
      "cell_type": "markdown",
      "source": [
        "Linear,Polynomial and RBF kernels have same accuracy where as Sigmoid has less accuracy"
      ],
      "metadata": {
        "id": "3UIZ2IzI0N6z"
      }
    }
  ]
}