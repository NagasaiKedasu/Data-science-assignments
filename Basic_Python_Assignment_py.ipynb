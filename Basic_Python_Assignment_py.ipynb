{
  "nbformat": 4,
  "nbformat_minor": 0,
  "metadata": {
    "colab": {
      "provenance": []
    },
    "kernelspec": {
      "name": "python3",
      "display_name": "Python 3"
    },
    "language_info": {
      "name": "python"
    }
  },
  "cells": [
    {
      "cell_type": "markdown",
      "source": [
        "**Python Programming**"
      ],
      "metadata": {
        "id": "v0KjxytUVVg1"
      }
    },
    {
      "cell_type": "markdown",
      "source": [
        "**Prime Number**"
      ],
      "metadata": {
        "id": "cGV5BYR8VgSH"
      }
    },
    {
      "cell_type": "code",
      "source": [
        "prime_input=int(input('enter a number :'))\n",
        "for i in range(2,prime_input//2+1):\n",
        "  if prime_input%i==0:\n",
        "    print(f\"{prime_input} is not a prime number\")\n",
        "    break\n",
        "  else:\n",
        "    print(f\"{prime_input} is a prime number\")"
      ],
      "metadata": {
        "id": "lR-E2-e1DuMA"
      },
      "execution_count": null,
      "outputs": []
    },
    {
      "cell_type": "markdown",
      "source": [
        "**Product of Random Numbers**"
      ],
      "metadata": {
        "id": "Wa8awoBYUwBU"
      }
    },
    {
      "cell_type": "code",
      "source": [
        "import random\n",
        "num1=random.randint(1,10)\n",
        "num2=random.randint(1,10)\n",
        "product=int(input(f\"what is product of two Numbers ?\"))\n",
        "if product==num1*num2:\n",
        "  print(\"correct\")\n",
        "else:\n",
        "  print(\"incorrect\")"
      ],
      "metadata": {
        "colab": {
          "base_uri": "https://localhost:8080/"
        },
        "id": "CaM6P_FPTr4e",
        "outputId": "18afd462-558b-4ee8-918d-4b0c75e37d8c"
      },
      "execution_count": null,
      "outputs": [
        {
          "output_type": "stream",
          "name": "stdout",
          "text": [
            "what is product of two Numbers ?7\n",
            "incorrect\n"
          ]
        }
      ]
    },
    {
      "cell_type": "markdown",
      "source": [
        "**Squares of Even/Odd Numbers**"
      ],
      "metadata": {
        "id": "rc-VelxwV2x8"
      }
    },
    {
      "cell_type": "code",
      "source": [
        "squares_even=[]\n",
        "for i in range(100,200,2):\n",
        "  squares_even.append(i**2)\n",
        "print(squares_even)\n",
        "squares_odd=[]\n",
        "for i in range(101,200,2):\n",
        "  squares_odd.append(i**2)\n",
        "print(squares_odd)\n"
      ],
      "metadata": {
        "colab": {
          "base_uri": "https://localhost:8080/"
        },
        "id": "XLbpYPiOV2I_",
        "outputId": "ade9b3b6-9f1c-4995-f9ba-3bb7089d31da"
      },
      "execution_count": null,
      "outputs": [
        {
          "output_type": "stream",
          "name": "stdout",
          "text": [
            "[10000, 10404, 10816, 11236, 11664, 12100, 12544, 12996, 13456, 13924, 14400, 14884, 15376, 15876, 16384, 16900, 17424, 17956, 18496, 19044, 19600, 20164, 20736, 21316, 21904, 22500, 23104, 23716, 24336, 24964, 25600, 26244, 26896, 27556, 28224, 28900, 29584, 30276, 30976, 31684, 32400, 33124, 33856, 34596, 35344, 36100, 36864, 37636, 38416, 39204]\n",
            "[10201, 10609, 11025, 11449, 11881, 12321, 12769, 13225, 13689, 14161, 14641, 15129, 15625, 16129, 16641, 17161, 17689, 18225, 18769, 19321, 19881, 20449, 21025, 21609, 22201, 22801, 23409, 24025, 24649, 25281, 25921, 26569, 27225, 27889, 28561, 29241, 29929, 30625, 31329, 32041, 32761, 33489, 34225, 34969, 35721, 36481, 37249, 38025, 38809, 39601]\n"
          ]
        }
      ]
    },
    {
      "cell_type": "markdown",
      "source": [
        "**Word Counter**\n"
      ],
      "metadata": {
        "id": "rLaKQSy0W5fI"
      }
    },
    {
      "cell_type": "code",
      "source": [
        "input_text=\"This is a sample text. This text will be used to demonstrate the word counter.\"\n",
        "word_count={}\n",
        "words=input_text.split()\n",
        "for word in words:\n",
        "  if word in word_count:\n",
        "    word_count[word]+=1\n",
        "  else:\n",
        "    word_count[word]=1\n",
        "for i in word_count:\n",
        "  print(f\"{i} : {word_count[i]}\")"
      ],
      "metadata": {
        "colab": {
          "base_uri": "https://localhost:8080/"
        },
        "id": "kV3Sh0sLW-xz",
        "outputId": "b4f34a7e-f789-433e-c444-2b3c28a0a2f2"
      },
      "execution_count": null,
      "outputs": [
        {
          "output_type": "stream",
          "name": "stdout",
          "text": [
            "This : 2\n",
            "is : 1\n",
            "a : 1\n",
            "sample : 1\n",
            "text. : 1\n",
            "text : 1\n",
            "will : 1\n",
            "be : 1\n",
            "used : 1\n",
            "to : 1\n",
            "demonstrate : 1\n",
            "the : 1\n",
            "word : 1\n",
            "counter. : 1\n"
          ]
        }
      ]
    },
    {
      "cell_type": "markdown",
      "source": [
        "**Check for Palindrome**"
      ],
      "metadata": {
        "id": "ncAg-2N2Y74Q"
      }
    },
    {
      "cell_type": "code",
      "source": [
        "str=(input(\"enter a string :\"))\n",
        "if str==str[::-1]:\n",
        "  print(\"True\")\n",
        "else:\n",
        "  print(\"False\")"
      ],
      "metadata": {
        "colab": {
          "base_uri": "https://localhost:8080/"
        },
        "id": "mJyKeFtZYH67",
        "outputId": "c18003e5-5424-46dd-a4ce-6840b5a1d9d2"
      },
      "execution_count": null,
      "outputs": [
        {
          "output_type": "stream",
          "name": "stdout",
          "text": [
            "enter a string :madam\n",
            "True\n"
          ]
        }
      ]
    },
    {
      "cell_type": "code",
      "source": [],
      "metadata": {
        "id": "95hybwG4YGyi"
      },
      "execution_count": null,
      "outputs": []
    }
  ]
}